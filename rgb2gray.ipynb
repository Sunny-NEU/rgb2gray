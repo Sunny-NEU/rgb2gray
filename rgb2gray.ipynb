{
 "cells": [
  {
   "cell_type": "code",
   "execution_count": 1,
   "metadata": {},
   "outputs": [],
   "source": [
    "from PIL import Image\n",
    "import numpy as np\n",
    "#读取原图像\n",
    "image = Image.open('image.jpg') \n",
    "image.show()    \n",
    "image_array = np.array(image)\n",
    "gray=image_array.copy()"
   ]
  },
  {
   "cell_type": "code",
   "execution_count": 2,
   "metadata": {},
   "outputs": [],
   "source": [
    "## 平均值法\n",
    "for i in range(image_array.shape[0]):\n",
    "    for j in range(image_array.shape[1]):\n",
    "        gray[i,j]=(int(image_array[i,j][0])+int(image_array[i,j][1])+int(image_array[i,j][2]))/3 #平均值法"
   ]
  },
  {
   "cell_type": "code",
   "execution_count": 3,
   "metadata": {},
   "outputs": [],
   "source": [
    "# 保存灰度图像\n",
    "im = Image.fromarray(gray)\n",
    "im.save(\"gray.jpg\")\n",
    "image = Image.open('gray.jpg') \n",
    "image.show()   "
   ]
  }
 ],
 "metadata": {
  "kernelspec": {
   "display_name": "Python 3",
   "language": "python",
   "name": "python3"
  },
  "language_info": {
   "codemirror_mode": {
    "name": "ipython",
    "version": 3
   },
   "file_extension": ".py",
   "mimetype": "text/x-python",
   "name": "python",
   "nbconvert_exporter": "python",
   "pygments_lexer": "ipython3",
   "version": "3.6.8"
  }
 },
 "nbformat": 4,
 "nbformat_minor": 2
}
